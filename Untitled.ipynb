{
 "cells": [
  {
   "cell_type": "code",
   "execution_count": 1,
   "metadata": {},
   "outputs": [
    {
     "name": "stderr",
     "output_type": "stream",
     "text": [
      "C:\\Users\\SATYAM\\Anaconda3\\lib\\site-packages\\h5py\\__init__.py:36: FutureWarning: Conversion of the second argument of issubdtype from `float` to `np.floating` is deprecated. In future, it will be treated as `np.float64 == np.dtype(float).type`.\n",
      "  from ._conv import register_converters as _register_converters\n",
      "Using TensorFlow backend.\n"
     ]
    }
   ],
   "source": [
    "from flask import Flask, render_template, request, redirect, url_for, session, jsonify\n",
    "from flask_mysqldb import MySQL\n",
    "import MySQLdb.cursors\n",
    "import re\n",
    "from keras.models import model_from_json\n",
    "import cv2\n",
    "from model import create_model\n",
    "from Align import AlignDlib\n",
    "import dlib\n",
    "import pickle\n",
    "from PIL import Image\n",
    "import base64\n",
    "import io\n",
    "import keras\n",
    "import numpy as np\n",
    "import tensorflow as tf\n",
    "import os\n",
    "import pandas as pd\n",
    "from sklearn import preprocessing\n",
    "from scipy.spatial import distance"
   ]
  },
  {
   "cell_type": "code",
   "execution_count": 26,
   "metadata": {},
   "outputs": [],
   "source": [
    "from tqdm import tqdm"
   ]
  },
  {
   "cell_type": "code",
   "execution_count": 2,
   "metadata": {},
   "outputs": [],
   "source": [
    "def load_image(path):\n",
    "    img = cv2.imread(path, 1)\n",
    "    return img[...,::-1]\n",
    "\n",
    "def get_model():\n",
    "    global model\n",
    "    json_file = open('saved/sequential_NN_629_model_output_53dim.json', 'r')\n",
    "    loaded_model_json = json_file.read()\n",
    "    json_file.close()\n",
    "    model = model_from_json(loaded_model_json)\n",
    "    model.load_weights(\"saved/sequential_NN_629_model_ouput_53dim.h5\")\n",
    "    model.compile(optimizer='adam', loss='categorical_crossentropy', metrics=['accuracy'])\n",
    "    print(\"Loaded NN model from disk\")\n",
    "    \n",
    "def get_openface_model():\n",
    "\tglobal open_face_model\n",
    "\topen_face_model = create_model()\n",
    "\topen_face_model.load_weights('open_face.h5')\n",
    "\tglobal graph\n",
    "\tgraph = tf.get_default_graph()\n",
    "\tprint('Loaded openface model')\n",
    "\n",
    "    \n",
    "def load_image(path):\n",
    "    img = cv2.imread(path, 1)\n",
    "    return img[...,::-1]\n",
    "\n",
    "def load_names_label_encoder():\n",
    "\tglobal names_encode\n",
    "\tnames_encode = preprocessing.LabelEncoder()\n",
    "\tnames_encode.classes_ = np.load('saved/names_encode.npy')\n"
   ]
  },
  {
   "cell_type": "code",
   "execution_count": 3,
   "metadata": {},
   "outputs": [
    {
     "name": "stdout",
     "output_type": "stream",
     "text": [
      "WARNING:tensorflow:From C:\\Users\\SATYAM\\Anaconda3\\lib\\site-packages\\tensorflow\\python\\framework\\op_def_library.py:263: colocate_with (from tensorflow.python.framework.ops) is deprecated and will be removed in a future version.\n",
      "Instructions for updating:\n",
      "Colocations handled automatically by placer.\n",
      "WARNING:tensorflow:From C:\\Users\\SATYAM\\Anaconda3\\lib\\site-packages\\keras\\backend\\tensorflow_backend.py:3445: calling dropout (from tensorflow.python.ops.nn_ops) with keep_prob is deprecated and will be removed in a future version.\n",
      "Instructions for updating:\n",
      "Please use `rate` instead of `keep_prob`. Rate should be set to `rate = 1 - keep_prob`.\n",
      "Loaded NN model from disk\n",
      "Loaded openface model\n"
     ]
    }
   ],
   "source": [
    "get_model()\n",
    "get_openface_model()\n",
    "load_names_label_encoder()\n",
    "alignment = AlignDlib('models/landmarks.dat')"
   ]
  },
  {
   "cell_type": "code",
   "execution_count": 4,
   "metadata": {},
   "outputs": [],
   "source": [
    "class IdentityMetadata():\n",
    "    def __init__(self, base, name, file):\n",
    "        # dataset base directory\n",
    "        self.base = base\n",
    "        # identity name\n",
    "        self.name = name\n",
    "        # image file name\n",
    "        self.file = file\n",
    "\n",
    "    def __repr__(self):\n",
    "        return self.image_path()\n",
    "\n",
    "    def image_path(self):\n",
    "        return os.path.join(self.base, self.name, self.file) \n",
    "    \n",
    "def load_metadata(path):\n",
    "    metadata = []\n",
    "    for i in os.listdir(path):\n",
    "        for f in os.listdir(os.path.join(path, i)):\n",
    "            # Check file extension. Allow only jpg/jpeg' files.\n",
    "            ext = os.path.splitext(f)[1]\n",
    "            if ext == '.jpg' or ext == '.jpeg':\n",
    "                metadata.append(IdentityMetadata(path, i, f))\n",
    "    return np.array(metadata)\n",
    "\n",
    "metadata = load_metadata('data')"
   ]
  },
  {
   "cell_type": "code",
   "execution_count": 5,
   "metadata": {},
   "outputs": [],
   "source": [
    "names = np.array([m.name for m in metadata])"
   ]
  },
  {
   "cell_type": "code",
   "execution_count": 23,
   "metadata": {},
   "outputs": [],
   "source": [
    "k=1\n",
    "idx=[]\n",
    "idx.append(1)\n",
    "for i in range(len(names)):\n",
    "    if i==0:\n",
    "        continue\n",
    "    if names[i]==names[i-1]:\n",
    "        idx.append(k)\n",
    "    else:\n",
    "        k=k+1\n",
    "        idx.append(k)"
   ]
  },
  {
   "cell_type": "code",
   "execution_count": null,
   "metadata": {},
   "outputs": [],
   "source": []
  },
  {
   "cell_type": "code",
   "execution_count": 27,
   "metadata": {},
   "outputs": [
    {
     "name": "stderr",
     "output_type": "stream",
     "text": [
      "515it [07:37, 15.43s/it]\n"
     ]
    }
   ],
   "source": [
    "embedded = np.zeros((metadata.shape[0], 128))\n",
    "\n",
    "for i, m in tqdm(enumerate(metadata)):\n",
    "    image = load_image(m.image_path())\n",
    "    try:\n",
    "        faces = alignment.getAllFaceBoundingBoxes(image)\n",
    "        face_aligned = alignment.align(96, image, faces[0], landmarkIndices=AlignDlib.OUTER_EYES_AND_NOSE)\n",
    "        face_aligned = (face_aligned / 255.).astype(np.float32)\n",
    "        with graph.as_default():\n",
    "            embedded[i] = open_face_model.predict(np.expand_dims(face_aligned, axis=0))[0]\n",
    "    except:\n",
    "        print(i)"
   ]
  },
  {
   "cell_type": "code",
   "execution_count": 28,
   "metadata": {},
   "outputs": [],
   "source": [
    "df = pd.DataFrame(embedded)"
   ]
  },
  {
   "cell_type": "code",
   "execution_count": 29,
   "metadata": {},
   "outputs": [],
   "source": [
    "df['names'] = names\n",
    "df['id'] = idx"
   ]
  },
  {
   "cell_type": "code",
   "execution_count": 30,
   "metadata": {},
   "outputs": [],
   "source": [
    "df.to_csv(\"embedding1.csv\",index=False)"
   ]
  },
  {
   "cell_type": "code",
   "execution_count": null,
   "metadata": {},
   "outputs": [],
   "source": []
  },
  {
   "cell_type": "code",
   "execution_count": null,
   "metadata": {},
   "outputs": [],
   "source": []
  },
  {
   "cell_type": "code",
   "execution_count": null,
   "metadata": {},
   "outputs": [],
   "source": []
  },
  {
   "cell_type": "code",
   "execution_count": 61,
   "metadata": {},
   "outputs": [],
   "source": [
    "df = pd.read_csv(\"embedding.csv\")\n",
    "names = df['names']\n",
    "idList = df[\"id\"]"
   ]
  },
  {
   "cell_type": "code",
   "execution_count": 62,
   "metadata": {},
   "outputs": [],
   "source": [
    "path = \"image1.jpg\"\n",
    "image = load_image(\"uploads/\"+path)"
   ]
  },
  {
   "cell_type": "code",
   "execution_count": 63,
   "metadata": {},
   "outputs": [],
   "source": [
    "faces = alignment.getAllFaceBoundingBoxes(image)"
   ]
  },
  {
   "cell_type": "code",
   "execution_count": 64,
   "metadata": {},
   "outputs": [],
   "source": [
    "face_aligned = alignment.align(96, image, faces[0], landmarkIndices=AlignDlib.OUTER_EYES_AND_NOSE)\n",
    "face_aligned = (face_aligned / 255.).astype(np.float32)\n",
    "with graph.as_default():\n",
    "    embedding = open_face_model.predict(np.expand_dims(face_aligned, axis=0))[0]"
   ]
  },
  {
   "cell_type": "code",
   "execution_count": 65,
   "metadata": {},
   "outputs": [],
   "source": [
    "original=[]\n",
    "for x in embedding:\n",
    "    original.append(x)"
   ]
  },
  {
   "cell_type": "code",
   "execution_count": 66,
   "metadata": {},
   "outputs": [],
   "source": [
    "def dist(lis1,lis2): \n",
    "    s=0\n",
    "    for x,y in zip(lis1, lis2):\n",
    "        s=s+((x-y)**2)\n",
    "    return np.sqrt(s)"
   ]
  },
  {
   "cell_type": "code",
   "execution_count": 67,
   "metadata": {},
   "outputs": [],
   "source": [
    "dist_list=[]\n",
    "for idx in range(df.shape[0]):\n",
    "    temp = []\n",
    "    for x in df.iloc[idx]:\n",
    "        temp.append(x)\n",
    "    dis = dist(original, temp)\n",
    "    dist_list.append(dis)"
   ]
  },
  {
   "cell_type": "code",
   "execution_count": 68,
   "metadata": {},
   "outputs": [],
   "source": [
    "dist_list_idx = sorted(range(len(dist_list)), key=lambda k: dist_list[k])"
   ]
  },
  {
   "cell_type": "code",
   "execution_count": 69,
   "metadata": {},
   "outputs": [
    {
     "data": {
      "text/plain": [
       "[28, 33, 29, 195, 287, 285, 32, 460, 31, 467]"
      ]
     },
     "execution_count": 69,
     "metadata": {},
     "output_type": "execute_result"
    }
   ],
   "source": [
    "dist_list_idx[:10]"
   ]
  },
  {
   "cell_type": "code",
   "execution_count": 70,
   "metadata": {},
   "outputs": [
    {
     "name": "stdout",
     "output_type": "stream",
     "text": [
      "aditya roy kapoor 7.035795484650486e-17 6\n",
      "aditya roy kapoor 0.42001596465040436 6\n",
      "aditya roy kapoor 0.4324617184007146 6\n",
      "farhan akhtar 0.5063469717809468 32\n",
      "john abraham 0.5075594292528055 47\n",
      "john abraham 0.5241387937412075 47\n",
      "aditya roy kapoor 0.5283162946007236 6\n",
      "ram charan teja 0.5628738758330052 73\n",
      "aditya roy kapoor 0.5689611089793902 6\n",
      "ranbir kapoor 0.5857913667335664 74\n"
     ]
    }
   ],
   "source": [
    "for x in dist_list_idx[:10]:\n",
    "    print(names[x], dist_list[x], idList[x])"
   ]
  },
  {
   "cell_type": "code",
   "execution_count": null,
   "metadata": {},
   "outputs": [],
   "source": []
  },
  {
   "cell_type": "code",
   "execution_count": 157,
   "metadata": {},
   "outputs": [],
   "source": []
  },
  {
   "cell_type": "code",
   "execution_count": null,
   "metadata": {},
   "outputs": [],
   "source": []
  },
  {
   "cell_type": "code",
   "execution_count": null,
   "metadata": {},
   "outputs": [],
   "source": []
  },
  {
   "cell_type": "code",
   "execution_count": null,
   "metadata": {},
   "outputs": [],
   "source": []
  }
 ],
 "metadata": {
  "kernelspec": {
   "display_name": "Python 3",
   "language": "python",
   "name": "python3"
  },
  "language_info": {
   "codemirror_mode": {
    "name": "ipython",
    "version": 3
   },
   "file_extension": ".py",
   "mimetype": "text/x-python",
   "name": "python",
   "nbconvert_exporter": "python",
   "pygments_lexer": "ipython3",
   "version": "3.6.5"
  }
 },
 "nbformat": 4,
 "nbformat_minor": 2
}
